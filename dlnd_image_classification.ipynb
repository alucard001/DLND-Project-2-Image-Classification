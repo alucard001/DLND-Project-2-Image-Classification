{
 "cells": [
  {
   "cell_type": "markdown",
   "metadata": {
    "collapsed": true
   },
   "source": [
    "# Image Classification\n",
    "In this project, you'll classify images from the [CIFAR-10 dataset](https://www.cs.toronto.edu/~kriz/cifar.html).  The dataset consists of airplanes, dogs, cats, and other objects. You'll preprocess the images, then train a convolutional neural network on all the samples. The images need to be normalized and the labels need to be one-hot encoded.  You'll get to apply what you learned and build a convolutional, max pooling, dropout, and fully connected layers.  At the end, you'll get to see your neural network's predictions on the sample images.\n",
    "## Get the Data\n",
    "Run the following cell to download the [CIFAR-10 dataset for python](https://www.cs.toronto.edu/~kriz/cifar-10-python.tar.gz)."
   ]
  },
  {
   "cell_type": "code",
   "execution_count": 252,
   "metadata": {
    "collapsed": false
   },
   "outputs": [
    {
     "name": "stdout",
     "output_type": "stream",
     "text": [
      "All files found!\n"
     ]
    }
   ],
   "source": [
    "\"\"\"\n",
    "DON'T MODIFY ANYTHING IN THIS CELL THAT IS BELOW THIS LINE\n",
    "\"\"\"\n",
    "from urllib.request import urlretrieve\n",
    "from os.path import isfile, isdir\n",
    "from tqdm import tqdm\n",
    "import problem_unittests as tests\n",
    "import tarfile\n",
    "\n",
    "cifar10_dataset_folder_path = 'cifar-10-batches-py'\n",
    "\n",
    "class DLProgress(tqdm):\n",
    "    last_block = 0\n",
    "\n",
    "    def hook(self, block_num=1, block_size=1, total_size=None):\n",
    "        self.total = total_size\n",
    "        self.update((block_num - self.last_block) * block_size)\n",
    "        self.last_block = block_num\n",
    "\n",
    "if not isfile('cifar-10-python.tar.gz'):\n",
    "    with DLProgress(unit='B', unit_scale=True, miniters=1, desc='CIFAR-10 Dataset') as pbar:\n",
    "        urlretrieve(\n",
    "            'https://www.cs.toronto.edu/~kriz/cifar-10-python.tar.gz',\n",
    "            'cifar-10-python.tar.gz',\n",
    "            pbar.hook)\n",
    "\n",
    "if not isdir(cifar10_dataset_folder_path):\n",
    "    with tarfile.open('cifar-10-python.tar.gz') as tar:\n",
    "        tar.extractall()\n",
    "        tar.close()\n",
    "\n",
    "\n",
    "tests.test_folder_path(cifar10_dataset_folder_path)"
   ]
  },
  {
   "cell_type": "markdown",
   "metadata": {},
   "source": [
    "## Explore the Data\n",
    "The dataset is broken into batches to prevent your machine from running out of memory.  The CIFAR-10 dataset consists of 5 batches, named `data_batch_1`, `data_batch_2`, etc.. Each batch contains the labels and images that are one of the following:\n",
    "* airplane\n",
    "* automobile\n",
    "* bird\n",
    "* cat\n",
    "* deer\n",
    "* dog\n",
    "* frog\n",
    "* horse\n",
    "* ship\n",
    "* truck\n",
    "\n",
    "Understanding a dataset is part of making predictions on the data.  Play around with the code cell below by changing the `batch_id` and `sample_id`. The `batch_id` is the id for a batch (1-5). The `sample_id` is the id for a image and label pair in the batch.\n",
    "\n",
    "Ask yourself \"What are all possible labels?\", \"What is the range of values for the image data?\", \"Are the labels in order or random?\".  Answers to questions like these will help you preprocess the data and end up with better predictions."
   ]
  },
  {
   "cell_type": "code",
   "execution_count": 253,
   "metadata": {
    "collapsed": false
   },
   "outputs": [
    {
     "name": "stdout",
     "output_type": "stream",
     "text": [
      "\n",
      "Stats of batch 1:\n",
      "Samples: 10000\n",
      "Label Counts: {0: 1005, 1: 974, 2: 1032, 3: 1016, 4: 999, 5: 937, 6: 1030, 7: 1001, 8: 1025, 9: 981}\n",
      "First 20 Labels: [6, 9, 9, 4, 1, 1, 2, 7, 8, 3, 4, 7, 7, 2, 9, 9, 9, 3, 2, 6]\n",
      "\n",
      "Example of Image 4:\n",
      "Image - Min Value: 0 Max Value: 254\n",
      "Image - Shape: (32, 32, 3)\n",
      "Label - Label Id: 1 Name: automobile\n"
     ]
    },
    {
     "data": {
      "image/png": "[encoded data removed]",
      "text/plain": [
       "<matplotlib.figure.Figure at 0x137627d68>"
      ]
     },
     "metadata": {
      "image/png": {
       "height": 250,
       "width": 253
      }
     },
     "output_type": "display_data"
    }
   ],
   "source": [
    "%matplotlib inline\n",
    "%config InlineBackend.figure_format = 'retina'\n",
    "\n",
    "import helper\n",
    "import numpy as np\n",
    "\n",
    "# Explore the dataset\n",
    "batch_id = 1\n",
    "sample_id = 4\n",
    "helper.display_stats(cifar10_dataset_folder_path, batch_id, sample_id)"
   ]
  },
  {
   "cell_type": "markdown",
   "metadata": {},
   "source": [
    "## Implement Preprocess Functions\n",
    "### Normalize\n",
    "In the cell below, implement the `normalize` function to take in image data, `x`, and return it as a normalized Numpy array. The values should be in the range of 0 to 1, inclusive.  The return object should be the same shape as `x`."
   ]
  },
  {
   "cell_type": "code",
   "execution_count": 254,
   "metadata": {
    "collapsed": false
   },
   "outputs": [
    {
     "name": "stdout",
     "output_type": "stream",
     "text": [
      "Tests Passed\n"
     ]
    }
   ],
   "source": [
    "def normalize(x):\n",
    "    \"\"\"\n",
    "    Normalize a list of sample image data in the range of 0 to 1\n",
    "    : x: List of image data.  The image shape is (32, 32, 3)\n",
    "    : return: Numpy array of normalize data\n",
    "    \"\"\"\n",
    "    # TODO: Implement Function\n",
    "    return np.array((x) / (255))\n",
    "\n",
    "\"\"\"\n",
    "DON'T MODIFY ANYTHING IN THIS CELL THAT IS BELOW THIS LINE\n",
    "\"\"\"\n",
    "tests.test_normalize(normalize)"
   ]
  },
  {
   "cell_type": "markdown",
   "metadata": {},
   "source": [
    "### One-hot encode\n",
    "Just like the previous code cell, you'll be implementing a function for preprocessing.  This time, you'll implement the `one_hot_encode` function. The input, `x`, are a list of labels.  Implement the function to return the list of labels as One-Hot encoded Numpy array.  The possible values for labels are 0 to 9. The one-hot encoding function should return the same encoding for each value between each call to `one_hot_encode`.  Make sure to save the map of encodings outside the function.\n",
    "\n",
    "Hint: Don't reinvent the wheel."
   ]
  },
  {
   "cell_type": "code",
   "execution_count": 255,
   "metadata": {
    "collapsed": false
   },
   "outputs": [
    {
     "name": "stdout",
     "output_type": "stream",
     "text": [
      "Tests Passed\n"
     ]
    }
   ],
   "source": [
    "def one_hot_encode(x):\n",
    "    \"\"\"\n",
    "    One hot encode a list of sample labels. Return a one-hot encoded vector for each label.\n",
    "    : x: List of sample Labels\n",
    "    : return: Numpy array of one-hot encoded labels\n",
    "    \"\"\"\n",
    "    # TODO: Implement Function\n",
    "    one_hot = np.zeros(shape=(len(x), 10))\n",
    "    for i in range(len(x)):\n",
    "        for j in range(10):\n",
    "            one_hot[i][j] = (j == x[i])\n",
    "    return one_hot\n",
    "\n",
    "\"\"\"\n",
    "DON'T MODIFY ANYTHING IN THIS CELL THAT IS BELOW THIS LINE\n",
    "\"\"\"\n",
    "tests.test_one_hot_encode(one_hot_encode)"
   ]
  },
  {
   "cell_type": "markdown",
   "metadata": {},
   "source": [
    "### Randomize Data\n",
    "As you saw from exploring the data above, the order of the samples are randomized.  It doesn't hurt to randomize it again, but you don't need to for this dataset."
   ]
  },
  {
   "cell_type": "markdown",
   "metadata": {},
   "source": [
    "## Preprocess all the data and save it\n",
    "Running the code cell below will preprocess all the CIFAR-10 data and save it to file. The code below also uses 10% of the training data for validation."
   ]
  },
  {
   "cell_type": "code",
   "execution_count": 256,
   "metadata": {
    "collapsed": false
   },
   "outputs": [],
   "source": [
    "\"\"\"\n",
    "DON'T MODIFY ANYTHING IN THIS CELL\n",
    "\"\"\"\n",
    "# Preprocess Training, Validation, and Testing Data\n",
    "helper.preprocess_and_save_data(cifar10_dataset_folder_path, normalize, one_hot_encode)"
   ]
  },
  {
   "cell_type": "markdown",
   "metadata": {},
   "source": [
    "# Check Point\n",
    "This is your first checkpoint.  If you ever decide to come back to this notebook or have to restart the notebook, you can start from here.  The preprocessed data has been saved to disk."
   ]
  },
  {
   "cell_type": "code",
   "execution_count": 257,
   "metadata": {
    "collapsed": true
   },
   "outputs": [],
   "source": [
    "\"\"\"\n",
    "DON'T MODIFY ANYTHING IN THIS CELL\n",
    "\"\"\"\n",
    "import pickle\n",
    "import problem_unittests as tests\n",
    "import helper\n",
    "\n",
    "# Load the Preprocessed Validation data\n",
    "valid_features, valid_labels = pickle.load(open('preprocess_validation.p', mode='rb'))"
   ]
  },
  {
   "cell_type": "markdown",
   "metadata": {},
   "source": [
    "## Build the network\n",
    "For the neural network, you'll build each layer into a function.  Most of the code you've seen has been outside of functions. To test your code more thoroughly, we require that you put each layer in a function.  This allows us to give you better feedback and test for simple mistakes using our unittests before you submit your project.\n",
    "\n",
    "If you're finding it hard to dedicate enough time for this course a week, we've provided a small shortcut to this part of the project. In the next couple of problems, you'll have the option to use [TensorFlow Layers](https://www.tensorflow.org/api_docs/python/tf/layers) or [TensorFlow Layers (contrib)](https://www.tensorflow.org/api_guides/python/contrib.layers) to build each layer, except \"Convolutional & Max Pooling\" layer.  TF Layers is similar to Keras's and TFLearn's abstraction to layers, so it's easy to pickup.\n",
    "\n",
    "If you would like to get the most of this course, try to solve all the problems without TF Layers.  Let's begin!\n",
    "### Input\n",
    "The neural network needs to read the image data, one-hot encoded labels, and dropout keep probability. Implement the following functions\n",
    "* Implement `neural_net_image_input`\n",
    " * Return a [TF Placeholder](https://www.tensorflow.org/api_docs/python/tf/placeholder)\n",
    " * Set the shape using `image_shape` with batch size set to `None`.\n",
    " * Name the TensorFlow placeholder \"x\" using the TensorFlow `name` parameter in the [TF Placeholder](https://www.tensorflow.org/api_docs/python/tf/placeholder).\n",
    "* Implement `neural_net_label_input`\n",
    " * Return a [TF Placeholder](https://www.tensorflow.org/api_docs/python/tf/placeholder)\n",
    " * Set the shape using `n_classes` with batch size set to `None`.\n",
    " * Name the TensorFlow placeholder \"y\" using the TensorFlow `name` parameter in the [TF Placeholder](https://www.tensorflow.org/api_docs/python/tf/placeholder).\n",
    "* Implement `neural_net_keep_prob_input`\n",
    " * Return a [TF Placeholder](https://www.tensorflow.org/api_docs/python/tf/placeholder) for dropout keep probability.\n",
    " * Name the TensorFlow placeholder \"keep_prob\" using the TensorFlow `name` parameter in the [TF Placeholder](https://www.tensorflow.org/api_docs/python/tf/placeholder).\n",
    "\n",
    "These names will be used at the end of the project to load your saved model.\n",
    "\n",
    "Note: `None` for shapes in TensorFlow allow for a dynamic size."
   ]
  },
  {
   "cell_type": "code",
   "execution_count": 258,
   "metadata": {
    "collapsed": false
   },
   "outputs": [
    {
     "name": "stdout",
     "output_type": "stream",
     "text": [
      "Image Input Tests Passed.\n",
      "Label Input Tests Passed.\n",
      "Keep Prob Tests Passed.\n"
     ]
    }
   ],
   "source": [
    "import tensorflow as tf\n",
    "\n",
    "def neural_net_image_input(image_shape):\n",
    "    \"\"\"\n",
    "    Return a Tensor for a bach of image input\n",
    "    : image_shape: Shape of the images\n",
    "    : return: Tensor for image input.\n",
    "    \"\"\"\n",
    "    # TODO: Implement Function\n",
    "    x = tf.placeholder(tf.float32, [None, image_shape[0], image_shape[1], image_shape[2]], name='x')\n",
    "    return x\n",
    "\n",
    "\n",
    "def neural_net_label_input(n_classes):\n",
    "    \"\"\"\n",
    "    Return a Tensor for a batch of label input\n",
    "    : n_classes: Number of classes\n",
    "    : return: Tensor for label input.\n",
    "    \"\"\"\n",
    "    # TODO: Implement Function\n",
    "    y = tf.placeholder(tf.float32, [None, n_classes], name='y')\n",
    "    return y\n",
    "\n",
    "\n",
    "def neural_net_keep_prob_input():\n",
    "    \"\"\"\n",
    "    Return a Tensor for keep probability\n",
    "    : return: Tensor for keep probability.\n",
    "    \"\"\"\n",
    "    # TODO: Implement Function\n",
    "    keep_prob = tf.placeholder(tf.float32, name='keep_prob')\n",
    "    return keep_prob\n",
    "\n",
    "\n",
    "\"\"\"\n",
    "DON'T MODIFY ANYTHING IN THIS CELL THAT IS BELOW THIS LINE\n",
    "\"\"\"\n",
    "tf.reset_default_graph()\n",
    "tests.test_nn_image_inputs(neural_net_image_input)\n",
    "tests.test_nn_label_inputs(neural_net_label_input)\n",
    "tests.test_nn_keep_prob_inputs(neural_net_keep_prob_input)"
   ]
  },
  {
   "cell_type": "markdown",
   "metadata": {},
   "source": [
    "### Convolution and Max Pooling Layer\n",
    "Convolution layers have a lot of success with images. For this code cell, you should implement the function `conv2d_maxpool` to apply convolution then max pooling:\n",
    "* Create the weight and bias using `conv_ksize`, `conv_num_outputs` and the shape of `x_tensor`.\n",
    "* Apply a convolution to `x_tensor` using weight and `conv_strides`.\n",
    " * We recommend you use same padding, but you're welcome to use any padding.\n",
    "* Add bias\n",
    "* Add a nonlinear activation to the convolution.\n",
    "* Apply Max Pooling using `pool_ksize` and `pool_strides`.\n",
    " * We recommend you use same padding, but you're welcome to use any padding.\n",
    "\n",
    "Note: You **can't** use [TensorFlow Layers](https://www.tensorflow.org/api_docs/python/tf/layers) or [TensorFlow Layers (contrib)](https://www.tensorflow.org/api_guides/python/contrib.layers) for this layer.  You're free to use any TensorFlow package for all the other layers."
   ]
  },
  {
   "cell_type": "code",
   "execution_count": 259,
   "metadata": {
    "collapsed": false
   },
   "outputs": [
    {
     "name": "stdout",
     "output_type": "stream",
     "text": [
      "Tests Passed\n"
     ]
    }
   ],
   "source": [
    "def conv2d_maxpool(x_tensor, conv_num_outputs, conv_ksize, conv_strides, pool_ksize, pool_strides):\n",
    "    \"\"\"\n",
    "    Apply convolution then max pooling to x_tensor\n",
    "    :param x_tensor: TensorFlow Tensor\n",
    "    :param conv_num_outputs: Number of outputs for the convolutional layer\n",
    "    :param conv_strides: Stride 2-D Tuple for convolution\n",
    "    :param pool_ksize: kernal size 2-D Tuple for pool\n",
    "    :param pool_strides: Stride 2-D Tuple for pool\n",
    "    : return: A tensor that represents convolution and max pooling of x_tensor\n",
    "    \"\"\"\n",
    "    # TODO: Implement Function\n",
    "    input_channel_depth = int(x_tensor.get_shape()[3])\n",
    "    \n",
    "    # The shape of the filter weight is (height, width, input_depth, output_depth)\n",
    "    W = tf.Variable(tf.truncated_normal([conv_ksize[0], conv_ksize[1], input_channel_depth, conv_num_outputs], stddev=0.05, dtype=tf.float32))\n",
    "    \n",
    "    # The shape of the biases is equal the the number of outputs of the conv layer\n",
    "    bias = tf.Variable(tf.constant(0, shape=[conv_num_outputs], dtype=tf.float32))\n",
    "\n",
    "    layer = tf.nn.conv2d(x_tensor, W, [1, conv_strides[0], conv_strides[1], 1], padding='SAME')\n",
    "    layer = tf.nn.bias_add(layer, bias)\n",
    "    layer = tf.nn.max_pool(layer, [1, pool_ksize[0], pool_ksize[1], 1], [1, pool_strides[0], pool_strides[1], 1], padding='SAME')\n",
    "    return layer\n",
    "\n",
    "\"\"\"\n",
    "DON'T MODIFY ANYTHING IN THIS CELL THAT IS BELOW THIS LINE\n",
    "\"\"\"\n",
    "tests.test_con_pool(conv2d_maxpool)"
   ]
  },
  {
   "cell_type": "markdown",
   "metadata": {},
   "source": [
    "### Flatten Layer\n",
    "Implement the `flatten` function to change the dimension of `x_tensor` from a 4-D tensor to a 2-D tensor.  The output should be the shape (*Batch Size*, *Flattened Image Size*). You can use [TensorFlow Layers](https://www.tensorflow.org/api_docs/python/tf/layers) or [TensorFlow Layers (contrib)](https://www.tensorflow.org/api_guides/python/contrib.layers) for this layer."
   ]
  },
  {
   "cell_type": "code",
   "execution_count": 260,
   "metadata": {
    "collapsed": false
   },
   "outputs": [
    {
     "name": "stdout",
     "output_type": "stream",
     "text": [
      "Tests Passed\n"
     ]
    }
   ],
   "source": [
    "def flatten(x_tensor):\n",
    "    \"\"\"\n",
    "    Flatten x_tensor to (Batch Size, Flattened Image Size)\n",
    "    : x_tensor: A tensor of size (Batch Size, ...), where ... are the image dimensions.\n",
    "    : return: A tensor of size (Batch Size, Flattened Image Size).\n",
    "    \"\"\"\n",
    "    # TODO: Implement Function\n",
    "    width = x_tensor.get_shape().as_list()[1]\n",
    "    height = x_tensor.get_shape().as_list()[2]\n",
    "    depth = x_tensor.get_shape().as_list()[3]\n",
    "    val = width*height*depth\n",
    "    return tf.reshape(x_tensor, [-1, val])\n",
    "\n",
    "\n",
    "\"\"\"\n",
    "DON'T MODIFY ANYTHING IN THIS CELL THAT IS BELOW THIS LINE\n",
    "\"\"\"\n",
    "tests.test_flatten(flatten)"
   ]
  },
  {
   "cell_type": "markdown",
   "metadata": {},
   "source": [
    "### Fully-Connected Layer\n",
    "Implement the `fully_conn` function to apply a fully connected layer to `x_tensor` with the shape (*Batch Size*, *num_outputs*). You can use [TensorFlow Layers](https://www.tensorflow.org/api_docs/python/tf/layers) or [TensorFlow Layers (contrib)](https://www.tensorflow.org/api_guides/python/contrib.layers) for this layer."
   ]
  },
  {
   "cell_type": "code",
   "execution_count": 261,
   "metadata": {
    "collapsed": false
   },
   "outputs": [
    {
     "name": "stdout",
     "output_type": "stream",
     "text": [
      "Tests Passed\n"
     ]
    }
   ],
   "source": [
    "def fully_conn(x_tensor, num_outputs):\n",
    "    \"\"\"\n",
    "    Apply a fully connected layer to x_tensor using weight and bias\n",
    "    : x_tensor: A 2-D tensor where the first dimension is batch size.\n",
    "    : num_outputs: The number of output that the new tensor should be.\n",
    "    : return: A 2-D tensor where the second dimension is num_outputs.\n",
    "    \"\"\"\n",
    "    # TODO: Implement Function\n",
    "    return tf.layers.dense(inputs=x_tensor, units=num_outputs, activation=tf.nn.relu)\n",
    "\n",
    "\n",
    "\"\"\"\n",
    "DON'T MODIFY ANYTHING IN THIS CELL THAT IS BELOW THIS LINE\n",
    "\"\"\"\n",
    "tests.test_fully_conn(fully_conn)"
   ]
  },
  {
   "cell_type": "markdown",
   "metadata": {},
   "source": [
    "### Output Layer\n",
    "Implement the `output` function to apply a fully connected layer to `x_tensor` with the shape (*Batch Size*, *num_outputs*). You can use [TensorFlow Layers](https://www.tensorflow.org/api_docs/python/tf/layers) or [TensorFlow Layers (contrib)](https://www.tensorflow.org/api_guides/python/contrib.layers) for this layer.\n",
    "\n",
    "Note: Activation, softmax, or cross entropy shouldn't be applied to this."
   ]
  },
  {
   "cell_type": "code",
   "execution_count": 262,
   "metadata": {
    "collapsed": false
   },
   "outputs": [
    {
     "name": "stdout",
     "output_type": "stream",
     "text": [
      "Tests Passed\n"
     ]
    }
   ],
   "source": [
    "def output(x_tensor, num_outputs):\n",
    "    \"\"\"\n",
    "    Apply a output layer to x_tensor using weight and bias\n",
    "    : x_tensor: A 2-D tensor where the first dimension is batch size.\n",
    "    : num_outputs: The number of output that the new tensor should be.\n",
    "    : return: A 2-D tensor where the second dimension is num_outputs.\n",
    "    \"\"\"\n",
    "    # TODO: Implement Function\n",
    "    return tf.contrib.layers.fully_connected(inputs=x_tensor, num_outputs=num_outputs, activation_fn=None)\n",
    "#     out_weights = tf.Variable(tf.truncated_normal([num_outputs, num_outputs]))\n",
    "#     out_bias = tf.Variable(tf.zeros(num_outputs))\n",
    "#     out = tf.add(tf.matmul(x_tensor, out_weights), out_bias)\n",
    "#     return out\n",
    "\n",
    "\"\"\"\n",
    "DON'T MODIFY ANYTHING IN THIS CELL THAT IS BELOW THIS LINE\n",
    "\"\"\"\n",
    "tests.test_output(output)"
   ]
  },
  {
   "cell_type": "markdown",
   "metadata": {},
   "source": [
    "### Create Convolutional Model\n",
    "Implement the function `conv_net` to create a convolutional neural network model. The function takes in a batch of images, `x`, and outputs logits.  Use the layers you created above to create this model:\n",
    "\n",
    "* Apply 1, 2, or 3 Convolution and Max Pool layers\n",
    "* Apply a Flatten Layer\n",
    "* Apply 1, 2, or 3 Fully Connected Layers\n",
    "* Apply an Output Layer\n",
    "* Return the output\n",
    "* Apply [TensorFlow's Dropout](https://www.tensorflow.org/api_docs/python/tf/nn/dropout) to one or more layers in the model using `keep_prob`. "
   ]
  },
  {
   "cell_type": "code",
   "execution_count": 263,
   "metadata": {
    "collapsed": false
   },
   "outputs": [
    {
     "name": "stdout",
     "output_type": "stream",
     "text": [
      "Neural Network Built!\n"
     ]
    }
   ],
   "source": [
    "def conv_net(x, keep_prob):\n",
    "    \"\"\"\n",
    "    Create a convolutional neural network model\n",
    "    : x: Placeholder tensor that holds image data.\n",
    "    : keep_prob: Placeholder tensor that hold dropout keep probability.\n",
    "    : return: Tensor that represents logits\n",
    "    \"\"\"\n",
    "    # TODO: Apply 1, 2, or 3 Convolution and Max Pool layers\n",
    "    #    Play around with different number of outputs, kernel size and stride\n",
    "    # Function Definition from Above:\n",
    "    #    conv2d_maxpool(x_tensor, conv_num_outputs, conv_ksize, conv_strides, pool_ksize, pool_strides)\n",
    "    conv_ksize = (3,3)\n",
    "    conv_strides = (1,1)\n",
    "    pool_ksize = (3,3)\n",
    "    pool_strides = (1,1)\n",
    "    conv_num_outputs = 32\n",
    "    num_outputs = 10\n",
    "       \n",
    "    # Layer 1\n",
    "    x = conv2d_maxpool(x, 32, conv_ksize, conv_strides, pool_ksize, pool_strides)\n",
    "    x = conv2d_maxpool(x, 32, conv_ksize, conv_strides, pool_ksize, pool_strides)\n",
    "    x = conv2d_maxpool(x, 64, conv_ksize, conv_strides, pool_ksize, pool_strides)\n",
    "    \n",
    "    # TODO: Apply a Flatten Layer\n",
    "    # Function Definition from Above:\n",
    "    #   flatten(x_tensor)\n",
    "    x = flatten(x)\n",
    "\n",
    "    # TODO: Apply 1, 2, or 3 Fully Connected Layers\n",
    "    #    Play around with different number of outputs\n",
    "    # Function Definition from Above:\n",
    "    #   fully_conn(x_tensor, num_outputs)    \n",
    "    x = fully_conn(x, 512)\n",
    "    x = tf.nn.dropout(x, keep_prob)\n",
    "    x = fully_conn(x, 128)\n",
    "    x = tf.nn.dropout(x, keep_prob)\n",
    "    \n",
    "    # TODO: Apply an Output Layer\n",
    "    #    Set this to the number of classes\n",
    "    # Function Definition from Above:\n",
    "    #   output(x_tensor, num_outputs)\n",
    "    x = output(x, num_outputs)\n",
    "    \n",
    "    # TODO: return output\n",
    "    return x\n",
    "\n",
    "\n",
    "\"\"\"\n",
    "DON'T MODIFY ANYTHING IN THIS CELL THAT IS BELOW THIS LINE\n",
    "\"\"\"\n",
    "\n",
    "##############################\n",
    "## Build the Neural Network ##\n",
    "##############################\n",
    "\n",
    "# Remove previous weights, bias, inputs, etc..\n",
    "tf.reset_default_graph()\n",
    "\n",
    "# Inputs\n",
    "x = neural_net_image_input((32, 32, 3))\n",
    "y = neural_net_label_input(10)\n",
    "keep_prob = neural_net_keep_prob_input()\n",
    "\n",
    "# Model\n",
    "logits = conv_net(x, keep_prob)\n",
    "\n",
    "# Name logits Tensor, so that is can be loaded from disk after training\n",
    "logits = tf.identity(logits, name='logits')\n",
    "\n",
    "# Loss and Optimizer\n",
    "cost = tf.reduce_mean(tf.nn.softmax_cross_entropy_with_logits(logits=logits, labels=y))\n",
    "optimizer = tf.train.AdamOptimizer().minimize(cost)\n",
    "\n",
    "# Accuracy\n",
    "correct_pred = tf.equal(tf.argmax(logits, 1), tf.argmax(y, 1))\n",
    "accuracy = tf.reduce_mean(tf.cast(correct_pred, tf.float32), name='accuracy')\n",
    "\n",
    "tests.test_conv_net(conv_net)"
   ]
  },
  {
   "cell_type": "markdown",
   "metadata": {},
   "source": [
    "## Train the Neural Network\n",
    "### Single Optimization\n",
    "Implement the function `train_neural_network` to do a single optimization.  The optimization should use `optimizer` to optimize in `session` with a `feed_dict` of the following:\n",
    "* `x` for image input\n",
    "* `y` for labels\n",
    "* `keep_prob` for keep probability for dropout\n",
    "\n",
    "This function will be called for each batch, so `tf.global_variables_initializer()` has already been called.\n",
    "\n",
    "Note: Nothing needs to be returned. This function is only optimizing the neural network."
   ]
  },
  {
   "cell_type": "code",
   "execution_count": 264,
   "metadata": {
    "collapsed": false
   },
   "outputs": [
    {
     "name": "stdout",
     "output_type": "stream",
     "text": [
      "Tests Passed\n"
     ]
    }
   ],
   "source": [
    "def train_neural_network(session, optimizer, keep_probability, feature_batch, label_batch):\n",
    "    \"\"\"\n",
    "    Optimize the session on a batch of images and labels\n",
    "    : session: Current TensorFlow session\n",
    "    : optimizer: TensorFlow optimizer function\n",
    "    : keep_probability: keep probability\n",
    "    : feature_batch: Batch of Numpy image data\n",
    "    : label_batch: Batch of Numpy label data\n",
    "    \"\"\"\n",
    "    # TODO: Implement Function\n",
    "    session.run(optimizer, feed_dict={x: feature_batch, y: label_batch, keep_prob: keep_probability})\n",
    "        \n",
    "\n",
    "\"\"\"\n",
    "DON'T MODIFY ANYTHING IN THIS CELL THAT IS BELOW THIS LINE\n",
    "\"\"\"\n",
    "tests.test_train_nn(train_neural_network)"
   ]
  },
  {
   "cell_type": "markdown",
   "metadata": {},
   "source": [
    "### Show Stats\n",
    "Implement the function `print_stats` to print loss and validation accuracy.  Use the global variables `valid_features` and `valid_labels` to calculate validation accuracy.  Use a keep probability of `1.0` to calculate the loss and validation accuracy."
   ]
  },
  {
   "cell_type": "code",
   "execution_count": 265,
   "metadata": {
    "collapsed": false
   },
   "outputs": [],
   "source": [
    "def print_stats(session, feature_batch, label_batch, cost, accuracy):\n",
    "    \"\"\"\n",
    "    Print information about loss and validation accuracy\n",
    "    : session: Current TensorFlow session\n",
    "    : feature_batch: Batch of Numpy image data\n",
    "    : label_batch: Batch of Numpy label data\n",
    "    : cost: TensorFlow cost function\n",
    "    : accuracy: TensorFlow accuracy function\n",
    "    \"\"\"\n",
    "    # TODO: Implement Function\n",
    "    loss = sess.run(cost, feed_dict={x: feature_batch, y: label_batch, keep_prob: 1.})\n",
    "    valid_acc = sess.run(accuracy, feed_dict={x: valid_features, y: valid_labels, keep_prob: 1.0})\n",
    "    print('Loss: {:>10.4f} Validation Accuracy: {:.6f}'.format(loss, valid_acc)) "
   ]
  },
  {
   "cell_type": "markdown",
   "metadata": {},
   "source": [
    "### Hyperparameters\n",
    "Tune the following parameters:\n",
    "* Set `epochs` to the number of iterations until the network stops learning or start overfitting\n",
    "* Set `batch_size` to the highest number that your machine has memory for.  Most people set them to common sizes of memory:\n",
    " * 64\n",
    " * 128\n",
    " * 256\n",
    " * ...\n",
    "* Set `keep_probability` to the probability of keeping a node using dropout"
   ]
  },
  {
   "cell_type": "code",
   "execution_count": null,
   "metadata": {
    "collapsed": true
   },
   "outputs": [],
   "source": [
    "# TODO: Tune Parameters\n",
    "epochs = 32\n",
    "batch_size = 1024\n",
    "keep_probability = 0.5"
   ]
  },
  {
   "cell_type": "markdown",
   "metadata": {},
   "source": [
    "### Train on a Single CIFAR-10 Batch\n",
    "Instead of training the neural network on all the CIFAR-10 batches of data, let's use a single batch. This should save time while you iterate on the model to get a better accuracy.  Once the final validation accuracy is 50% or greater, run the model on all the data in the next section."
   ]
  },
  {
   "cell_type": "code",
   "execution_count": null,
   "metadata": {
    "collapsed": false
   },
   "outputs": [
    {
     "name": "stdout",
     "output_type": "stream",
     "text": [
      "Checking the Training on a Single Batch...\n",
      "Epoch  1, CIFAR-10 Batch 1:  Loss:     2.0730 Validation Accuracy: 0.274400\n",
      "Epoch  2, CIFAR-10 Batch 1:  Loss:     1.8924 Validation Accuracy: 0.351800\n",
      "Epoch  3, CIFAR-10 Batch 1:  Loss:     1.7364 Validation Accuracy: 0.392600\n",
      "Epoch  4, CIFAR-10 Batch 1:  Loss:     1.6100 Validation Accuracy: 0.428400\n",
      "Epoch  5, CIFAR-10 Batch 1:  Loss:     1.4978 Validation Accuracy: 0.447800\n"
     ]
    }
   ],
   "source": [
    "\"\"\"\n",
    "DON'T MODIFY ANYTHING IN THIS CELL\n",
    "\"\"\"\n",
    "print('Checking the Training on a Single Batch...')\n",
    "with tf.Session() as sess:\n",
    "    # Initializing the variables\n",
    "    sess.run(tf.global_variables_initializer())\n",
    "    \n",
    "    # Training cycle\n",
    "    for epoch in range(epochs):\n",
    "        batch_i = 1\n",
    "        for batch_features, batch_labels in helper.load_preprocess_training_batch(batch_i, batch_size):\n",
    "            train_neural_network(sess, optimizer, keep_probability, batch_features, batch_labels)\n",
    "        print('Epoch {:>2}, CIFAR-10 Batch {}:  '.format(epoch + 1, batch_i), end='')\n",
    "        print_stats(sess, batch_features, batch_labels, cost, accuracy)"
   ]
  },
  {
   "cell_type": "markdown",
   "metadata": {},
   "source": [
    "### Fully Train the Model\n",
    "Now that you got a good accuracy with a single CIFAR-10 batch, try it with all five batches."
   ]
  },
  {
   "cell_type": "code",
   "execution_count": 221,
   "metadata": {
    "collapsed": false
   },
   "outputs": [
    {
     "name": "stdout",
     "output_type": "stream",
     "text": [
      "Training...\n",
      "Epoch  1, CIFAR-10 Batch 1:  Loss:     2.2477 Validation Accuracy: 0.148000\n",
      "Epoch  1, CIFAR-10 Batch 2:  Loss:     2.2008 Validation Accuracy: 0.233000\n",
      "Epoch  1, CIFAR-10 Batch 3:  Loss:     2.1559 Validation Accuracy: 0.241600\n",
      "Epoch  1, CIFAR-10 Batch 4:  Loss:     2.1120 Validation Accuracy: 0.245600\n",
      "Epoch  1, CIFAR-10 Batch 5:  Loss:     2.0944 Validation Accuracy: 0.278600\n",
      "Epoch  2, CIFAR-10 Batch 1:  Loss:     2.0555 Validation Accuracy: 0.298800\n",
      "Epoch  2, CIFAR-10 Batch 2:  Loss:     2.0303 Validation Accuracy: 0.328400\n",
      "Epoch  2, CIFAR-10 Batch 3:  Loss:     1.9261 Validation Accuracy: 0.328000\n",
      "Epoch  2, CIFAR-10 Batch 4:  Loss:     1.8631 Validation Accuracy: 0.350000\n",
      "Epoch  2, CIFAR-10 Batch 5:  Loss:     1.8701 Validation Accuracy: 0.371800\n",
      "Epoch  3, CIFAR-10 Batch 1:  Loss:     1.8744 Validation Accuracy: 0.370800\n",
      "Epoch  3, CIFAR-10 Batch 2:  Loss:     1.8202 Validation Accuracy: 0.399200\n",
      "Epoch  3, CIFAR-10 Batch 3:  Loss:     1.7605 Validation Accuracy: 0.402200\n",
      "Epoch  3, CIFAR-10 Batch 4:  Loss:     1.6839 Validation Accuracy: 0.407800\n",
      "Epoch  3, CIFAR-10 Batch 5:  Loss:     1.7176 Validation Accuracy: 0.419600\n",
      "Epoch  4, CIFAR-10 Batch 1:  Loss:     1.7642 Validation Accuracy: 0.412400\n",
      "Epoch  4, CIFAR-10 Batch 2:  Loss:     1.6807 Validation Accuracy: 0.432200\n",
      "Epoch  4, CIFAR-10 Batch 3:  Loss:     1.6431 Validation Accuracy: 0.434800\n",
      "Epoch  4, CIFAR-10 Batch 4:  Loss:     1.5830 Validation Accuracy: 0.435400\n",
      "Epoch  4, CIFAR-10 Batch 5:  Loss:     1.6435 Validation Accuracy: 0.433800\n",
      "Epoch  5, CIFAR-10 Batch 1:  Loss:     1.6774 Validation Accuracy: 0.435600\n",
      "Epoch  5, CIFAR-10 Batch 2:  Loss:     1.6119 Validation Accuracy: 0.444400\n",
      "Epoch  5, CIFAR-10 Batch 3:  Loss:     1.5862 Validation Accuracy: 0.437600\n",
      "Epoch  5, CIFAR-10 Batch 4:  Loss:     1.5453 Validation Accuracy: 0.446600\n",
      "Epoch  5, CIFAR-10 Batch 5:  Loss:     1.5720 Validation Accuracy: 0.455400\n",
      "Epoch  6, CIFAR-10 Batch 1:  Loss:     1.6459 Validation Accuracy: 0.448400\n",
      "Epoch  6, CIFAR-10 Batch 2:  Loss:     1.5528 Validation Accuracy: 0.449600\n",
      "Epoch  6, CIFAR-10 Batch 3:  Loss:     1.5273 Validation Accuracy: 0.444800\n",
      "Epoch  6, CIFAR-10 Batch 4:  Loss:     1.4999 Validation Accuracy: 0.453200\n",
      "Epoch  6, CIFAR-10 Batch 5:  Loss:     1.5473 Validation Accuracy: 0.443000\n",
      "Epoch  7, CIFAR-10 Batch 1:  Loss:     1.6162 Validation Accuracy: 0.448000\n",
      "Epoch  7, CIFAR-10 Batch 2:  Loss:     1.5832 Validation Accuracy: 0.443600\n",
      "Epoch  7, CIFAR-10 Batch 3:  Loss:     1.4753 Validation Accuracy: 0.460800\n",
      "Epoch  7, CIFAR-10 Batch 4:  Loss:     1.4849 Validation Accuracy: 0.452200\n",
      "Epoch  7, CIFAR-10 Batch 5:  Loss:     1.5103 Validation Accuracy: 0.465000\n",
      "Epoch  8, CIFAR-10 Batch 1:  Loss:     1.5799 Validation Accuracy: 0.451000\n",
      "Epoch  8, CIFAR-10 Batch 2:  Loss:     1.4933 Validation Accuracy: 0.460800\n",
      "Epoch  8, CIFAR-10 Batch 3:  Loss:     1.4744 Validation Accuracy: 0.457800\n",
      "Epoch  8, CIFAR-10 Batch 4:  Loss:     1.4420 Validation Accuracy: 0.473600\n",
      "Epoch  8, CIFAR-10 Batch 5:  Loss:     1.4668 Validation Accuracy: 0.465600\n",
      "Epoch  9, CIFAR-10 Batch 1:  Loss:     1.5502 Validation Accuracy: 0.451800\n",
      "Epoch  9, CIFAR-10 Batch 2:  Loss:     1.4702 Validation Accuracy: 0.461000\n",
      "Epoch  9, CIFAR-10 Batch 3:  Loss:     1.4217 Validation Accuracy: 0.470600\n",
      "Epoch  9, CIFAR-10 Batch 4:  Loss:     1.4178 Validation Accuracy: 0.473800\n",
      "Epoch  9, CIFAR-10 Batch 5:  Loss:     1.4390 Validation Accuracy: 0.472600\n",
      "Epoch 10, CIFAR-10 Batch 1:  Loss:     1.5566 Validation Accuracy: 0.468400\n",
      "Epoch 10, CIFAR-10 Batch 2:  Loss:     1.4517 Validation Accuracy: 0.469600\n",
      "Epoch 10, CIFAR-10 Batch 3:  Loss:     1.3830 Validation Accuracy: 0.472800\n",
      "Epoch 10, CIFAR-10 Batch 4:  Loss:     1.3839 Validation Accuracy: 0.476200\n",
      "Epoch 10, CIFAR-10 Batch 5:  Loss:     1.4192 Validation Accuracy: 0.478800\n",
      "Epoch 11, CIFAR-10 Batch 1:  Loss:     1.4951 Validation Accuracy: 0.469800\n",
      "Epoch 11, CIFAR-10 Batch 2:  Loss:     1.4271 Validation Accuracy: 0.465600\n",
      "Epoch 11, CIFAR-10 Batch 3:  Loss:     1.3935 Validation Accuracy: 0.477600\n",
      "Epoch 11, CIFAR-10 Batch 4:  Loss:     1.3721 Validation Accuracy: 0.477800\n",
      "Epoch 11, CIFAR-10 Batch 5:  Loss:     1.3869 Validation Accuracy: 0.477400\n",
      "Epoch 12, CIFAR-10 Batch 1:  Loss:     1.4979 Validation Accuracy: 0.474400\n",
      "Epoch 12, CIFAR-10 Batch 2:  Loss:     1.4122 Validation Accuracy: 0.474600\n",
      "Epoch 12, CIFAR-10 Batch 3:  Loss:     1.3427 Validation Accuracy: 0.481400\n",
      "Epoch 12, CIFAR-10 Batch 4:  Loss:     1.3653 Validation Accuracy: 0.483800\n",
      "Epoch 12, CIFAR-10 Batch 5:  Loss:     1.3649 Validation Accuracy: 0.479800\n",
      "Epoch 13, CIFAR-10 Batch 1:  Loss:     1.4902 Validation Accuracy: 0.490600\n",
      "Epoch 13, CIFAR-10 Batch 2:  Loss:     1.3903 Validation Accuracy: 0.478200\n",
      "Epoch 13, CIFAR-10 Batch 3:  Loss:     1.3307 Validation Accuracy: 0.487000\n",
      "Epoch 13, CIFAR-10 Batch 4:  Loss:     1.3251 Validation Accuracy: 0.493200\n",
      "Epoch 13, CIFAR-10 Batch 5:  Loss:     1.3579 Validation Accuracy: 0.491000\n",
      "Epoch 14, CIFAR-10 Batch 1:  Loss:     1.4871 Validation Accuracy: 0.485800\n",
      "Epoch 14, CIFAR-10 Batch 2:  Loss:     1.3811 Validation Accuracy: 0.481600\n",
      "Epoch 14, CIFAR-10 Batch 3:  Loss:     1.3421 Validation Accuracy: 0.494600\n",
      "Epoch 14, CIFAR-10 Batch 4:  Loss:     1.3339 Validation Accuracy: 0.498200\n",
      "Epoch 14, CIFAR-10 Batch 5:  Loss:     1.3189 Validation Accuracy: 0.504400\n",
      "Epoch 15, CIFAR-10 Batch 1:  Loss:     1.4548 Validation Accuracy: 0.494000\n",
      "Epoch 15, CIFAR-10 Batch 2:  Loss:     1.4098 Validation Accuracy: 0.482000\n",
      "Epoch 15, CIFAR-10 Batch 3:  Loss:     1.3406 Validation Accuracy: 0.492200\n",
      "Epoch 15, CIFAR-10 Batch 4:  Loss:     1.3020 Validation Accuracy: 0.495800\n",
      "Epoch 15, CIFAR-10 Batch 5:  Loss:     1.3223 Validation Accuracy: 0.497400\n",
      "Epoch 16, CIFAR-10 Batch 1:  Loss:     1.5015 Validation Accuracy: 0.458000\n",
      "Epoch 16, CIFAR-10 Batch 2:  Loss:     1.3506 Validation Accuracy: 0.511400\n",
      "Epoch 16, CIFAR-10 Batch 3:  Loss:     1.3150 Validation Accuracy: 0.509400\n",
      "Epoch 16, CIFAR-10 Batch 4:  Loss:     1.3300 Validation Accuracy: 0.496000\n",
      "Epoch 16, CIFAR-10 Batch 5:  Loss:     1.3175 Validation Accuracy: 0.500000\n",
      "Epoch 17, CIFAR-10 Batch 1:  Loss:     1.4473 Validation Accuracy: 0.496000\n",
      "Epoch 17, CIFAR-10 Batch 2:  Loss:     1.3349 Validation Accuracy: 0.509800\n",
      "Epoch 17, CIFAR-10 Batch 3:  Loss:     1.2856 Validation Accuracy: 0.503600\n",
      "Epoch 17, CIFAR-10 Batch 4:  Loss:     1.2710 Validation Accuracy: 0.511000\n",
      "Epoch 17, CIFAR-10 Batch 5:  Loss:     1.2953 Validation Accuracy: 0.516600\n",
      "Epoch 18, CIFAR-10 Batch 1:  Loss:     1.4273 Validation Accuracy: 0.493800\n",
      "Epoch 18, CIFAR-10 Batch 2:  Loss:     1.3385 Validation Accuracy: 0.502000\n",
      "Epoch 18, CIFAR-10 Batch 3:  Loss:     1.3032 Validation Accuracy: 0.506200\n",
      "Epoch 18, CIFAR-10 Batch 4:  Loss:     1.2747 Validation Accuracy: 0.517600\n",
      "Epoch 18, CIFAR-10 Batch 5:  Loss:     1.3084 Validation Accuracy: 0.511600\n",
      "Epoch 19, CIFAR-10 Batch 1:  Loss:     1.4108 Validation Accuracy: 0.505200\n",
      "Epoch 19, CIFAR-10 Batch 2:  Loss:     1.3171 Validation Accuracy: 0.515000\n",
      "Epoch 19, CIFAR-10 Batch 3:  Loss:     1.2673 Validation Accuracy: 0.515000\n",
      "Epoch 19, CIFAR-10 Batch 4:  Loss:     1.2582 Validation Accuracy: 0.515400\n",
      "Epoch 19, CIFAR-10 Batch 5:  Loss:     1.2630 Validation Accuracy: 0.517200\n",
      "Epoch 20, CIFAR-10 Batch 1:  Loss:     1.3867 Validation Accuracy: 0.522600\n",
      "Epoch 20, CIFAR-10 Batch 2:  Loss:     1.3192 Validation Accuracy: 0.512600\n",
      "Epoch 20, CIFAR-10 Batch 3:  Loss:     1.2430 Validation Accuracy: 0.519800\n",
      "Epoch 20, CIFAR-10 Batch 4:  Loss:     1.2441 Validation Accuracy: 0.521600\n",
      "Epoch 20, CIFAR-10 Batch 5:  Loss:     1.2427 Validation Accuracy: 0.506800\n",
      "Epoch 21, CIFAR-10 Batch 1:  Loss:     1.4663 Validation Accuracy: 0.474400\n",
      "Epoch 21, CIFAR-10 Batch 2:  Loss:     1.2711 Validation Accuracy: 0.524000\n",
      "Epoch 21, CIFAR-10 Batch 3:  Loss:     1.2412 Validation Accuracy: 0.524800\n",
      "Epoch 21, CIFAR-10 Batch 4:  Loss:     1.2651 Validation Accuracy: 0.521600\n",
      "Epoch 21, CIFAR-10 Batch 5:  Loss:     1.2470 Validation Accuracy: 0.522000\n",
      "Epoch 22, CIFAR-10 Batch 1:  Loss:     1.3994 Validation Accuracy: 0.513200\n",
      "Epoch 22, CIFAR-10 Batch 2:  Loss:     1.2864 Validation Accuracy: 0.518400\n",
      "Epoch 22, CIFAR-10 Batch 3:  Loss:     1.2428 Validation Accuracy: 0.524400\n",
      "Epoch 22, CIFAR-10 Batch 4:  Loss:     1.2787 Validation Accuracy: 0.506800\n",
      "Epoch 22, CIFAR-10 Batch 5:  Loss:     1.2482 Validation Accuracy: 0.519200\n",
      "Epoch 23, CIFAR-10 Batch 1:  Loss:     1.3798 Validation Accuracy: 0.512200\n",
      "Epoch 23, CIFAR-10 Batch 2:  Loss:     1.2616 Validation Accuracy: 0.523200\n",
      "Epoch 23, CIFAR-10 Batch 3:  Loss:     1.2118 Validation Accuracy: 0.526200\n",
      "Epoch 23, CIFAR-10 Batch 4:  Loss:     1.2379 Validation Accuracy: 0.533600\n",
      "Epoch 23, CIFAR-10 Batch 5:  Loss:     1.2303 Validation Accuracy: 0.517800\n",
      "Epoch 24, CIFAR-10 Batch 1:  Loss:     1.4180 Validation Accuracy: 0.497200\n",
      "Epoch 24, CIFAR-10 Batch 2:  Loss:     1.2954 Validation Accuracy: 0.512800\n",
      "Epoch 24, CIFAR-10 Batch 3:  Loss:     1.2193 Validation Accuracy: 0.527000\n",
      "Epoch 24, CIFAR-10 Batch 4:  Loss:     1.1946 Validation Accuracy: 0.526200\n",
      "Epoch 24, CIFAR-10 Batch 5:  Loss:     1.2261 Validation Accuracy: 0.515600\n",
      "Epoch 25, CIFAR-10 Batch 1:  Loss:     1.3609 Validation Accuracy: 0.508000\n",
      "Epoch 25, CIFAR-10 Batch 2:  Loss:     1.2223 Validation Accuracy: 0.532800\n",
      "Epoch 25, CIFAR-10 Batch 3:  Loss:     1.1821 Validation Accuracy: 0.529200\n",
      "Epoch 25, CIFAR-10 Batch 4:  Loss:     1.1932 Validation Accuracy: 0.522200\n",
      "Epoch 25, CIFAR-10 Batch 5:  Loss:     1.2520 Validation Accuracy: 0.505200\n",
      "Epoch 26, CIFAR-10 Batch 1:  Loss:     1.3670 Validation Accuracy: 0.510800\n",
      "Epoch 26, CIFAR-10 Batch 2:  Loss:     1.2894 Validation Accuracy: 0.511400\n",
      "Epoch 26, CIFAR-10 Batch 3:  Loss:     1.2244 Validation Accuracy: 0.514600\n",
      "Epoch 26, CIFAR-10 Batch 4:  Loss:     1.1942 Validation Accuracy: 0.529800\n",
      "Epoch 26, CIFAR-10 Batch 5:  Loss:     1.2279 Validation Accuracy: 0.516600\n",
      "Epoch 27, CIFAR-10 Batch 1:  Loss:     1.3867 Validation Accuracy: 0.500200\n",
      "Epoch 27, CIFAR-10 Batch 2:  Loss:     1.2387 Validation Accuracy: 0.524000\n",
      "Epoch 27, CIFAR-10 Batch 3:  Loss:     1.1959 Validation Accuracy: 0.531000\n",
      "Epoch 27, CIFAR-10 Batch 4:  Loss:     1.1943 Validation Accuracy: 0.532000\n",
      "Epoch 27, CIFAR-10 Batch 5:  Loss:     1.2104 Validation Accuracy: 0.520200\n",
      "Epoch 28, CIFAR-10 Batch 1:  Loss:     1.3965 Validation Accuracy: 0.482600\n",
      "Epoch 28, CIFAR-10 Batch 2:  Loss:     1.2380 Validation Accuracy: 0.525800\n",
      "Epoch 28, CIFAR-10 Batch 3:  Loss:     1.2006 Validation Accuracy: 0.535000\n",
      "Epoch 28, CIFAR-10 Batch 4:  Loss:     1.1961 Validation Accuracy: 0.527600\n",
      "Epoch 28, CIFAR-10 Batch 5:  Loss:     1.2012 Validation Accuracy: 0.517600\n",
      "Epoch 29, CIFAR-10 Batch 1:  Loss:     1.3236 Validation Accuracy: 0.518800\n",
      "Epoch 29, CIFAR-10 Batch 2:  Loss:     1.2240 Validation Accuracy: 0.520600\n",
      "Epoch 29, CIFAR-10 Batch 3:  Loss:     1.1895 Validation Accuracy: 0.532000\n",
      "Epoch 29, CIFAR-10 Batch 4:  Loss:     1.1751 Validation Accuracy: 0.526000\n",
      "Epoch 29, CIFAR-10 Batch 5:  Loss:     1.2198 Validation Accuracy: 0.512600\n",
      "Epoch 30, CIFAR-10 Batch 1:  Loss:     1.3149 Validation Accuracy: 0.530200\n",
      "Epoch 30, CIFAR-10 Batch 2:  Loss:     1.2179 Validation Accuracy: 0.527200\n",
      "Epoch 30, CIFAR-10 Batch 3:  Loss:     1.1803 Validation Accuracy: 0.537800\n",
      "Epoch 30, CIFAR-10 Batch 4:  Loss:     1.1629 Validation Accuracy: 0.524800\n",
      "Epoch 30, CIFAR-10 Batch 5:  Loss:     1.1973 Validation Accuracy: 0.524400\n",
      "Epoch 31, CIFAR-10 Batch 1:  Loss:     1.3409 Validation Accuracy: 0.510200\n",
      "Epoch 31, CIFAR-10 Batch 2:  Loss:     1.2133 Validation Accuracy: 0.532200\n",
      "Epoch 31, CIFAR-10 Batch 3:  Loss:     1.1895 Validation Accuracy: 0.532800\n",
      "Epoch 31, CIFAR-10 Batch 4:  Loss:     1.1674 Validation Accuracy: 0.531600\n",
      "Epoch 31, CIFAR-10 Batch 5:  Loss:     1.2270 Validation Accuracy: 0.504000\n",
      "Epoch 32, CIFAR-10 Batch 1:  Loss:     1.3614 Validation Accuracy: 0.487200\n",
      "Epoch 32, CIFAR-10 Batch 2:  Loss:     1.2188 Validation Accuracy: 0.530600\n",
      "Epoch 32, CIFAR-10 Batch 3:  Loss:     1.1708 Validation Accuracy: 0.533400\n",
      "Epoch 32, CIFAR-10 Batch 4:  Loss:     1.1700 Validation Accuracy: 0.532200\n",
      "Epoch 32, CIFAR-10 Batch 5:  Loss:     1.2369 Validation Accuracy: 0.504000\n"
     ]
    }
   ],
   "source": [
    "\"\"\"\n",
    "DON'T MODIFY ANYTHING IN THIS CELL\n",
    "\"\"\"\n",
    "save_model_path = './image_classification'\n",
    "\n",
    "print('Training...')\n",
    "with tf.Session() as sess:\n",
    "    # Initializing the variables\n",
    "    sess.run(tf.global_variables_initializer())\n",
    "    \n",
    "    # Training cycle\n",
    "    for epoch in range(epochs):\n",
    "        # Loop over all batches\n",
    "        n_batches = 5\n",
    "        for batch_i in range(1, n_batches + 1):\n",
    "            for batch_features, batch_labels in helper.load_preprocess_training_batch(batch_i, batch_size):\n",
    "                train_neural_network(sess, optimizer, keep_probability, batch_features, batch_labels)\n",
    "            print('Epoch {:>2}, CIFAR-10 Batch {}:  '.format(epoch + 1, batch_i), end='')\n",
    "            print_stats(sess, batch_features, batch_labels, cost, accuracy)\n",
    "            \n",
    "    # Save Model\n",
    "    saver = tf.train.Saver()\n",
    "    save_path = saver.save(sess, save_model_path)"
   ]
  },
  {
   "cell_type": "markdown",
   "metadata": {},
   "source": [
    "# Checkpoint\n",
    "The model has been saved to disk.\n",
    "## Test Model\n",
    "Test your model against the test dataset.  This will be your final accuracy. You should have an accuracy greater than 50%. If you don't, keep tweaking the model architecture and parameters."
   ]
  },
  {
   "cell_type": "code",
   "execution_count": 222,
   "metadata": {
    "collapsed": false
   },
   "outputs": [
    {
     "name": "stdout",
     "output_type": "stream",
     "text": [
      "Testing Accuracy: 0.5015280336141587\n",
      "\n"
     ]
    },
    {
     "data": {
      "image/png": "[encoded data removed]",
      "text/plain": [
       "<matplotlib.figure.Figure at 0x1188aa4e0>"
      ]
     },
     "metadata": {
      "image/png": {
       "height": 319,
       "width": 355
      }
     },
     "output_type": "display_data"
    }
   ],
   "source": [
    "\"\"\"\n",
    "DON'T MODIFY ANYTHING IN THIS CELL\n",
    "\"\"\"\n",
    "%matplotlib inline\n",
    "%config InlineBackend.figure_format = 'retina'\n",
    "\n",
    "import tensorflow as tf\n",
    "import pickle\n",
    "import helper\n",
    "import random\n",
    "\n",
    "# Set batch size if not already set\n",
    "try:\n",
    "    if batch_size:\n",
    "        pass\n",
    "except NameError:\n",
    "    batch_size = 64\n",
    "\n",
    "save_model_path = './image_classification'\n",
    "n_samples = 4\n",
    "top_n_predictions = 3\n",
    "\n",
    "def test_model():\n",
    "    \"\"\"\n",
    "    Test the saved model against the test dataset\n",
    "    \"\"\"\n",
    "\n",
    "    test_features, test_labels = pickle.load(open('preprocess_training.p', mode='rb'))\n",
    "    loaded_graph = tf.Graph()\n",
    "\n",
    "    with tf.Session(graph=loaded_graph) as sess:\n",
    "        # Load model\n",
    "        loader = tf.train.import_meta_graph(save_model_path + '.meta')\n",
    "        loader.restore(sess, save_model_path)\n",
    "\n",
    "        # Get Tensors from loaded model\n",
    "        loaded_x = loaded_graph.get_tensor_by_name('x:0')\n",
    "        loaded_y = loaded_graph.get_tensor_by_name('y:0')\n",
    "        loaded_keep_prob = loaded_graph.get_tensor_by_name('keep_prob:0')\n",
    "        loaded_logits = loaded_graph.get_tensor_by_name('logits:0')\n",
    "        loaded_acc = loaded_graph.get_tensor_by_name('accuracy:0')\n",
    "        \n",
    "        # Get accuracy in batches for memory limitations\n",
    "        test_batch_acc_total = 0\n",
    "        test_batch_count = 0\n",
    "        \n",
    "        for train_feature_batch, train_label_batch in helper.batch_features_labels(test_features, test_labels, batch_size):\n",
    "            test_batch_acc_total += sess.run(\n",
    "                loaded_acc,\n",
    "                feed_dict={loaded_x: train_feature_batch, loaded_y: train_label_batch, loaded_keep_prob: 1.0})\n",
    "            test_batch_count += 1\n",
    "\n",
    "        print('Testing Accuracy: {}\\n'.format(test_batch_acc_total/test_batch_count))\n",
    "\n",
    "        # Print Random Samples\n",
    "        random_test_features, random_test_labels = tuple(zip(*random.sample(list(zip(test_features, test_labels)), n_samples)))\n",
    "        random_test_predictions = sess.run(\n",
    "            tf.nn.top_k(tf.nn.softmax(loaded_logits), top_n_predictions),\n",
    "            feed_dict={loaded_x: random_test_features, loaded_y: random_test_labels, loaded_keep_prob: 1.0})\n",
    "        helper.display_image_predictions(random_test_features, random_test_labels, random_test_predictions)\n",
    "\n",
    "\n",
    "test_model()"
   ]
  },
  {
   "cell_type": "markdown",
   "metadata": {},
   "source": [
    "## Why 50-70% Accuracy?\n",
    "You might be wondering why you can't get an accuracy any higher. First things first, 50% isn't bad for a simple CNN.  Pure guessing would get you 10% accuracy. However, you might notice people are getting scores [well above 70%](http://rodrigob.github.io/are_we_there_yet/build/classification_datasets_results.html#43494641522d3130).  That's because we haven't taught you all there is to know about neural networks. We still need to cover a few more techniques.\n",
    "## Submitting This Project\n",
    "When submitting this project, make sure to run all the cells before saving the notebook.  Save the notebook file as \"dlnd_image_classification.ipynb\" and save it as a HTML file under \"File\" -> \"Download as\".  Include the \"helper.py\" and \"problem_unittests.py\" files in your submission."
   ]
  }
 ],
 "metadata": {
  "kernelspec": {
   "display_name": "Python 3",
   "language": "python",
   "name": "python3"
  },
  "language_info": {
   "codemirror_mode": {
    "name": "ipython",
    "version": 3
   },
   "file_extension": ".py",
   "mimetype": "text/x-python",
   "name": "python",
   "nbconvert_exporter": "python",
   "pygments_lexer": "ipython3",
   "version": "3.5.2"
  }
 },
 "nbformat": 4,
 "nbformat_minor": 0
}
